{
 "cells": [
  {
   "cell_type": "code",
   "execution_count": 1,
   "metadata": {},
   "outputs": [],
   "source": [
    "import re, os, sys, string, itertools\n",
    "import numpy as np\n",
    "import pandas as pd\n",
    "from nltk.tokenize import WordPunctTokenizer, word_tokenize, StanfordSegmenter, sent_tokenize, PunktSentenceTokenizer\n",
    "from nltk.corpus import stopwords\n",
    "import nltk\n",
    "from nltk.stem import WordNetLemmatizer\n",
    "from nltk.corpus import wordnet"
   ]
  },
  {
   "cell_type": "code",
   "execution_count": 2,
   "metadata": {},
   "outputs": [],
   "source": [
    "raw_train = pd.read_csv(\"./train.csv\")\n",
    "raw_test = pd.read_csv(\"./test.csv\")\n",
    "label_list = [\"toxic\", \"severe_toxic\", \"obscene\", \"threat\", \"insult\", \"identity_hate\"]\n",
    "raw_train = raw_train[:300]\n",
    "raw_test = raw_test[:100]\n",
    "#raw_train"
   ]
  },
  {
   "cell_type": "code",
   "execution_count": 3,
   "metadata": {},
   "outputs": [],
   "source": [
    "# raw_train.comment_text.dtypes # Pandas string"
   ]
  },
  {
   "cell_type": "code",
   "execution_count": 4,
   "metadata": {},
   "outputs": [],
   "source": [
    "# raw_train.comment_text.value_counts()"
   ]
  },
  {
   "cell_type": "code",
   "execution_count": 5,
   "metadata": {},
   "outputs": [],
   "source": [
    "#for x in raw_train.comment_text.head(5):\n",
    "#   print(x)"
   ]
  },
  {
   "cell_type": "code",
   "execution_count": 6,
   "metadata": {},
   "outputs": [],
   "source": [
    "def basic_clean_data(series):\n",
    "    series = series.copy()\n",
    "    series = series.str.replace(r\"\\d\", \"\")\n",
    "    series = series.str.replace(r\"[^a-zA-Z0-9.,\\\"!]+\", \" \")\n",
    "    series = series.str.replace(\"'\", \"\")\n",
    "    series = series.str.replace(r\"\\\\n{1,}\", \" line \")\n",
    "    return series"
   ]
  },
  {
   "cell_type": "code",
   "execution_count": 7,
   "metadata": {},
   "outputs": [],
   "source": [
    "def remove_ip_address(series): #comment_text as series\n",
    "    series = series.copy()\n",
    "    regulation = re.compile(r'(([0-9]{1,}\\.){2,}[0-9]{1,})') #ip format\n",
    "    series = series.str.replace(regulation, ' ')\n",
    "    return series"
   ]
  },
  {
   "cell_type": "code",
   "execution_count": 8,
   "metadata": {},
   "outputs": [],
   "source": [
    "def unique_list(l):\n",
    "    ulist = []\n",
    "    for x in l:\n",
    "        if x not in ulist:\n",
    "            ulist.append(x)\n",
    "    return ulist\n",
    "\n",
    "#test_x = \"teeeeeeeeest, test, test, test if we have repeated words\"\n",
    "#test_x = ' '.join(unique_list(test_x.split(\" \")))\n",
    "#test_x: test, test if we have repeated words"
   ]
  },
  {
   "cell_type": "code",
   "execution_count": 9,
   "metadata": {},
   "outputs": [],
   "source": [
    "def remove_repeat(series):\n",
    "    series = series.copy()\n",
    "    series = series.apply(lambda x: ' '.join(unique_list(str(x).split(\" \"))))\n",
    "    pattern = re.compile(r\"(.)\\1{2,}\", re.DOTALL)\n",
    "    series = series.apply(lambda x: pattern.sub(r\"\\1\", x))\n",
    "    return series"
   ]
  },
  {
   "cell_type": "code",
   "execution_count": 10,
   "metadata": {},
   "outputs": [],
   "source": [
    "#test_x = \"teeeeeeeeest, test, test, test if we have repeated words\"\n",
    "#pattern = re.compile(r\"(.)\\1{2,}\", re.DOTALL)\n",
    "#test_x = pattern.sub(r\"\\1\", test_x)\n",
    "#test_x"
   ]
  },
  {
   "cell_type": "code",
   "execution_count": 11,
   "metadata": {},
   "outputs": [],
   "source": [
    "# WordNet® is a large lexical database of English. Nouns, verbs, \n",
    "# adjectives and adverbs are grouped into sets of cognitive synonyms (synsets), \n",
    "# each expressing a distinct concept\n",
    "\n",
    "def get_part_of_speech(tag):\n",
    "    if tag.startswith('J'):\n",
    "        return wordnet.ADJ\n",
    "    elif tag.startswith('V'):\n",
    "        return wordnet.VERB\n",
    "    elif tag.startswith('N'):\n",
    "        return wordnet.NOUN\n",
    "    elif tag.startswith('R'):\n",
    "        return wordnet.ADV\n",
    "    else:\n",
    "        return wordnet.NOUN"
   ]
  },
  {
   "cell_type": "code",
   "execution_count": 12,
   "metadata": {},
   "outputs": [],
   "source": [
    "def normalize(text):\n",
    "    filters='!\"#$%&()*+,-./:;<=>?@[\\\\]^_`{|}~\\t\\n'\n",
    "    stop_words = set(stopwords.words('english'))\n",
    "    # one to one mapping the filters characters to its len's \" \"\n",
    "    translate_map = str.maketrans(filters, \" \" * len(filters)) \n",
    "    \n",
    "    text = text.lower()\n",
    "    text = text.translate(translate_map)\n",
    "    \n",
    "    tokens = nltk.word_tokenize(text)\n",
    "    \n",
    "    tags = nltk.pos_tag(tokens)\n",
    "    \n",
    "    normalized_text = [WordNetLemmatizer().lemmatize(tag[0], pos=get_part_of_speech(tag[1])) for tag in tags if tag[0] not in stop_words if len(tag[0]) > 2]\n",
    "\n",
    "    return normalized_text"
   ]
  },
  {
   "cell_type": "code",
   "execution_count": 13,
   "metadata": {},
   "outputs": [],
   "source": [
    "def preprocess(series, \n",
    "               basic_clean = True, remove_ip= True,\n",
    "               normalization = True,remove_rep = True):\n",
    "    series = series.copy()\n",
    "    \n",
    "    if basic_clean:\n",
    "        series = basic_clean_data(series)\n",
    "    \n",
    "    if remove_ip:\n",
    "        series = remove_ip_address(series)\n",
    "        \n",
    "    if normalization:\n",
    "        series = series.apply(lambda x: normalize(x))\n",
    "    \n",
    "    if remove_rep:\n",
    "        series = remove_repeat(series)\n",
    "    \n",
    "    return series"
   ]
  },
  {
   "cell_type": "code",
   "execution_count": 14,
   "metadata": {},
   "outputs": [],
   "source": [
    "raw_train.comment_text = preprocess(raw_train.comment_text)\n",
    "raw_test.comment_text = preprocess(raw_test.comment_text)"
   ]
  },
  {
   "cell_type": "code",
   "execution_count": 15,
   "metadata": {},
   "outputs": [],
   "source": [
    "#raw_train"
   ]
  },
  {
   "cell_type": "code",
   "execution_count": 16,
   "metadata": {},
   "outputs": [],
   "source": [
    "#write out\n",
    "raw_train.to_csv(\"./train_preprocessed_v1.csv\", index=False)\n",
    "raw_test.to_csv(\"./test_preprocessed_v1.csv\", index=False)"
   ]
  },
  {
   "cell_type": "code",
   "execution_count": 17,
   "metadata": {},
   "outputs": [],
   "source": [
    "train_preprocessed = pd.read_csv(\"./train_preprocessed_v1.csv\")"
   ]
  },
  {
   "cell_type": "code",
   "execution_count": 18,
   "metadata": {},
   "outputs": [
    {
     "data": {
      "text/plain": [
       "0      ['explanation', 'edits', 'make', 'username', '...\n",
       "1      ['aww', 'match', 'background', 'colour', 'seem...\n",
       "2      ['hey', 'man', 'really', 'try', 'edit', 'war',...\n",
       "3      ['make', 'real', 'suggestion', 'improvement', ...\n",
       "4          ['sir', 'hero', 'chance', 'remember', 'page']\n",
       "                             ...                        \n",
       "295    ['user', 'worthless', 'goddamn', 'faggot', 'fu...\n",
       "296    ['unsourced', 'aesthetic', 'opinion', 'therefo...\n",
       "297    ['image', 'popclassic', 'jpg', 'tag', 'image',...\n",
       "298       ['fuck', 'administrator', 'authority', 'tell']\n",
       "299                         ['adorably', 'disingenuous']\n",
       "Name: comment_text, Length: 300, dtype: object"
      ]
     },
     "execution_count": 18,
     "metadata": {},
     "output_type": "execute_result"
    }
   ],
   "source": [
    "train_preprocessed.comment_text"
   ]
  }
 ],
 "metadata": {
  "kernelspec": {
   "display_name": "Python 3",
   "language": "python",
   "name": "python3"
  },
  "language_info": {
   "codemirror_mode": {
    "name": "ipython",
    "version": 3
   },
   "file_extension": ".py",
   "mimetype": "text/x-python",
   "name": "python",
   "nbconvert_exporter": "python",
   "pygments_lexer": "ipython3",
   "version": "3.7.6"
  }
 },
 "nbformat": 4,
 "nbformat_minor": 4
}
